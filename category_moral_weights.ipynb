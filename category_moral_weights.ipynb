{
 "cells": [
  {
   "attachments": {},
   "cell_type": "markdown",
   "metadata": {},
   "source": [
    "### Importing"
   ]
  },
  {
   "cell_type": "code",
   "execution_count": 105,
   "metadata": {},
   "outputs": [],
   "source": [
    "import squigglepy as sq\n",
    "import numpy as np\n",
    "from squigglepy.numbers import K, M, B\n",
    "import pickle\n",
    "import os\n",
    "import pandas as pd\n",
    "import seaborn as sns \n",
    "import matplotlib.pyplot as plt\n",
    "\n",
    "params = pickle.load(open(os.path.join('input_data', \"Sentience Parameters.p\"), 'rb'))\n",
    "NUM_SCENARIOS = params['N_SCENARIOS']"
   ]
  },
  {
   "attachments": {},
   "cell_type": "markdown",
   "metadata": {},
   "source": [
    "### Get species per category and species proxies"
   ]
  },
  {
   "cell_type": "code",
   "execution_count": 106,
   "metadata": {},
   "outputs": [],
   "source": [
    "## Get proxies for moral weights\n",
    "\n",
    "SPECIES = ['pigs', 'chickens', 'carp', 'octopuses', 'bees', 'salmon', 'crayfish', 'shrimp',  'crabs', 'bsf', 'silkworms']\n",
    "\n",
    "species_in_category_dict = {'wild vertebrates': ['all vertebrates'], \n",
    "                            'farmed fishes': ['fish'], \n",
    "                            'farmed aquatic invertebrates': ['shrimp', 'crayfish, crabs, lobsters'],\n",
    "                            'farmed land invertebrates': ['silkworms', 'crickets', 'cochineals', 'bsf', 'mealworms'],\n",
    "                            'farmed chickens': ['chickens'],\n",
    "                            'farmed animals': ['fish', 'shrimp', 'crayfish, crabs, lobsters', \n",
    "                                               'silkworms', 'crickets', 'cochineals', 'bsf', 'mealworms', \n",
    "                                               'chickens', 'cows', 'pigs', 'amphibians and reptiles', 'rabbits', 'mink, foxes, racoon dogs, rabbits, chinchillas',\n",
    "                                               'ducks, geese'],\n",
    "                            'farmed cows': ['cows'],\n",
    "                            'farmed pigs': ['pigs'],\n",
    "                            'farmed rabbits': ['rabbits'],\n",
    "                            'farmed animals for fur': ['mink, foxes, racoon dogs, rabbits, chinchillas'],\n",
    "                            'farmed animals for foie gras': ['ducks, geese'],\n",
    "                            'animals in labs': ['rabbits, mice, dogs, monkeys'], \n",
    "                            'companion animals': ['dogs, cats'],\n",
    "                            'working animals': ['horses, donkeys, mules, dogs'],\n",
    "                            'animals in entertainment': ['8600 species in zoos/aquariums']}\n",
    "\n",
    "proxy_species_and_weights = {'all vertebrates': {'carp': 0.5, 'salmon': 0.5},\n",
    "                             'fish': {'carp': 0.5, 'salmon': 0.5},\n",
    "                             'shrimp': {'shrimp': 1},\n",
    "                            'crayfish, crabs, lobsters': {'crayfish': 0.5, 'crabs': 0.5},\n",
    "                            'silkworms': {'silkworms': 1},\n",
    "                            'crickets': {'bsf': 1},\n",
    "                            'cochineals': {'silkworms': 1},\n",
    "                            'bsf': {'bsf': 1},\n",
    "                            'mealworms': {'silkworms': 1},\n",
    "                            'chickens': {'chickens': 1},\n",
    "                            'pigs': {'pigs': 1},\n",
    "                            'amphibians and reptiles': {'chickens': 0.5, 'carp': 0.25, 'salmon':0.25},\n",
    "                            'ducks, geese': {'chickens': 1},\n",
    "                            'rabbits': {'pigs': 1},\n",
    "                            'cows': {'pigs': 1},\n",
    "                            'mink, foxes, racoon dogs, rabbits, chinchillas': {'pigs': 1},\n",
    "                            'rabbits, mice, dogs, monkeys': {'pigs': 1},\n",
    "                            'ducks, geese': {'chickens': 1},\n",
    "                            'dogs, cats': {'pigs': 1},\n",
    "                            'horses, donkeys, mules, dogs': {'pigs': 1},\n",
    "                            '8600 species in zoos/aquariums': {'pigs': 1/3, 'chickens': 1/3, 'carp': 1/6, 'salmon': 1/6}}\n"
   ]
  },
  {
   "attachments": {},
   "cell_type": "markdown",
   "metadata": {},
   "source": [
    "### Set population counts"
   ]
  },
  {
   "cell_type": "code",
   "execution_count": 107,
   "metadata": {},
   "outputs": [],
   "source": [
    "population_models = {'all vertebrates': sq.norm(10**13, 10**15, lclip=10**13, rclip=10**15),\n",
    "               'fish': sq.lognorm(6*10**10, 2*10**11, lclip=4*10**10, rclip=3*10**11), \n",
    "               'shrimp': sq.norm(1.8*10**11, 3.20*10**11, lclip=1.2*10**11, rclip=4*10**11),\n",
    "               'crayfish, crabs, lobsters': sq.norm(2.7*10**10, 5.1*10**10, lclip=2*10**10, rclip=7.5*10**10),\n",
    "               'silkworms': sq.norm(4*10**10, 1*10**11, lclip=2*10**10, rclip=1.2*10**11),\n",
    "               'crickets': sq.lognorm(1*10**9, 2*10**10, lclip=1*10**9, rclip=2*10**10),\n",
    "               'cochineals': sq.norm(1*10**11, 3*10**11, lclip= 4*10**10, rclip=4*10**11),\n",
    "               'bsf': sq.lognorm(9*10*6, 2.6*10**7, lclip=5*10**6, rclip=5*10**7),\n",
    "               'mealworms': sq.lognorm(1*10**10, 1*10**11, lclip=1.5*10**9, rclip=1.4*10**11),\n",
    "               'chickens': sq.norm(1.8*10**10, 2.5*10**10, lclip=1.5*10**10, rclip=2.8*10**10),\n",
    "               'amphibians and reptiles': sq.lognorm(5.8*10**8, 3.5*10**9, lclip=3.3*10**8, rclip=5.3*10**9),\n",
    "               'cows': sq.norm(1.2*10**9, 1.8*10**9, lclip=1*10**9, rclip=2*10**9),\n",
    "               'pigs': sq.norm(9*10**8, 1.06*10**9, lclip= 8.5*10**8, rclip=2*10**9),\n",
    "               'rabbits': sq.norm(2.5*10**8, 3.5*10**8, lclip=2.2*10**8, rclip=3.8*10**8),\n",
    "               'mink, foxes, racoon dogs, rabbits, chinchillas': sq.norm(2.5*10**7, 6.5*10**7, lclip=1.5*10**7, rclip=8*10**7),\n",
    "               'ducks, geese': sq.norm(1.1*10**7, 1.9*10**7, lclip=5*10**6, rclip=2.5*10**7),\n",
    "               'rabbits, mice, dogs, monkeys': sq.norm(1.1*10**8, 1.8*10**8, lclip=8.2*10**7, rclip=2.1*10**8),\n",
    "               'dogs, cats': sq.norm(1.2*10**9, 1.8*10**9, lclip=9*10**8, rclip=2.1*10**9),\n",
    "               'horses, donkeys, mules, dogs': sq.norm(2*10**8, 3*10**8, lclip=1*10**8, rclip=4*10**8),\n",
    "               '8600 species in zoos/aquariums': sq.norm(1*10**6, 1*10**7, lclip=5*10**5, rclip=1.2*10**7)\n",
    "\n",
    "}\n",
    "\n",
    "def generate_populations():\n",
    "    populations = {}\n",
    "    for animal, model in population_models.items():\n",
    "        pop_array = sq.sample(model, NUM_SCENARIOS)\n",
    "        populations[animal] = pop_array\n",
    "    return populations\n",
    "\n",
    "populations = generate_populations()"
   ]
  },
  {
   "attachments": {},
   "cell_type": "markdown",
   "metadata": {},
   "source": [
    "### Moral weight weighted averages by category"
   ]
  },
  {
   "cell_type": "code",
   "execution_count": 108,
   "metadata": {},
   "outputs": [],
   "source": [
    "def load_welfare_ranges(species):\n",
    "    with open(os.path.join('sent_adj_welfare_ranges', '{}_wr_{}.p'.format(species, 'Mixture Neuron Count')), 'rb') as f_wr:\n",
    "        species_wr = list(pickle.load(f_wr)) \n",
    "    return species_wr\n",
    "\n",
    "def one_animal_weighted_wr(animal):\n",
    "    animal_proxies = proxy_species_and_weights[animal]\n",
    "\n",
    "    animal_wr_arr = np.zeros(NUM_SCENARIOS)\n",
    "    for proxy_species, proxy_species_weight in animal_proxies.items():\n",
    "        #print('proxy species: {}'.format(proxy_species))\n",
    "        #print('weight: {}'.format(proxy_species_weight))\n",
    "        species_wr_arr = np.array(load_welfare_ranges(proxy_species))\n",
    "        #print('Before: {}'.format(animal_wr_arr[:10]))\n",
    "        animal_wr_arr += species_wr_arr*proxy_species_weight\n",
    "        #print('After: {}'.format(species_wr_arr[:10]))\n",
    "\n",
    "    #print(sq.get_percentiles(animal_wr_arr))\n",
    "    return animal_wr_arr\n",
    "\n",
    "def get_relative_population(category):\n",
    "    category_species_lst = species_in_category_dict[category]\n",
    "    category_population = np.zeros(NUM_SCENARIOS)\n",
    "\n",
    "    relative_populations = {}\n",
    "\n",
    "    for species in category_species_lst:\n",
    "        species_pop = populations[species]\n",
    "        category_population += species_pop\n",
    "    \n",
    "    for species in category_species_lst:\n",
    "        rel_species_pop = populations[species]/category_population\n",
    "        relative_populations[species] = rel_species_pop\n",
    "    \n",
    "    return relative_populations\n",
    "\n",
    "def one_category_weighted_welfare_range(category):\n",
    "    category_species_lst = species_in_category_dict[category]\n",
    "    category_relative_populations = get_relative_population(category)\n",
    "\n",
    "    moral_weights = np.zeros(NUM_SCENARIOS)\n",
    "\n",
    "    for animal in category_species_lst:\n",
    "        animal_wr_weighted = one_animal_weighted_wr(animal)\n",
    "        #print(\"Animal: {}\".format(animal))\n",
    "        #print(\"Moral weight: {}\".format(animal_wr_weighted[:10]))\n",
    "        animal_rel_pop = category_relative_populations[animal]\n",
    "        #print(\"Rel pop: {}\".format(animal_rel_pop[:10]))\n",
    "        pop_weighted_moral_weight = animal_wr_weighted*animal_rel_pop\n",
    "        #print(\"MW weighted: {}\".format(pop_weighted_moral_weight[:10]))\n",
    "        moral_weights += pop_weighted_moral_weight\n",
    "\n",
    "    #print(sq.get_percentiles(moral_weights))\n",
    "    return moral_weights"
   ]
  },
  {
   "attachments": {},
   "cell_type": "markdown",
   "metadata": {},
   "source": [
    "## All Category Moral Weights"
   ]
  },
  {
   "cell_type": "code",
   "execution_count": 109,
   "metadata": {},
   "outputs": [
    {
     "name": "stdout",
     "output_type": "stream",
     "text": [
      "['wild vertebrates', 'farmed fishes', 'farmed aquatic invertebrates', 'farmed land invertebrates', 'farmed chickens', 'farmed animals', 'farmed cows', 'farmed pigs', 'farmed rabbits', 'farmed animals for fur', 'farmed animals for foie gras', 'animals in labs', 'companion animals', 'working animals', 'animals in entertainment']\n",
      "{'wild vertebrates': array([0.12440373, 0.43693668, 0.43514365, ..., 0.29044986, 0.31258747,\n",
      "       0.23863012]), 'farmed fishes': array([0.12440373, 0.43693668, 0.43514365, ..., 0.29044986, 0.31258747,\n",
      "       0.23863012]), 'farmed aquatic invertebrates': array([0.0083051 , 0.04588571, 0.00910003, ..., 0.03708706, 0.0348666 ,\n",
      "       0.01469343]), 'farmed land invertebrates': array([3.63362891e-04, 1.03324990e-02, 6.05321700e-04, ...,\n",
      "       2.06479692e-02, 3.93318599e-01, 1.36919445e-03]), 'farmed chickens': array([1.66727211, 0.65195858, 0.37867387, ..., 1.20095927, 0.72160867,\n",
      "       0.84479331]), 'farmed animals': array([0.08562998, 0.10875568, 0.10342266, ..., 0.12599238, 0.22941706,\n",
      "       0.07244954]), 'farmed cows': array([1., 1., 1., ..., 1., 1., 1.]), 'farmed pigs': array([1., 1., 1., ..., 1., 1., 1.]), 'farmed rabbits': array([1., 1., 1., ..., 1., 1., 1.]), 'farmed animals for fur': array([1., 1., 1., ..., 1., 1., 1.]), 'farmed animals for foie gras': array([1.66727211, 0.65195858, 0.37867387, ..., 1.20095927, 0.72160867,\n",
      "       0.84479331]), 'animals in labs': array([1., 1., 1., ..., 1., 1., 1.]), 'companion animals': array([1., 1., 1., ..., 1., 1., 1.]), 'working animals': array([1., 1., 1., ..., 1., 1., 1.]), 'animals in entertainment': array([0.93055861, 0.69629842, 0.60460584, ..., 0.83046971, 0.67806538,\n",
      "       0.69447448])}\n"
     ]
    }
   ],
   "source": [
    "categories = list(species_in_category_dict.keys())\n",
    "print(categories)\n",
    "\n",
    "def all_category_moral_weights():\n",
    "    all_moral_weights = {}\n",
    "    for category in categories:\n",
    "        cat_mw = one_category_weighted_welfare_range(category)\n",
    "        all_moral_weights[category] = cat_mw\n",
    "        #print(category)\n",
    "        #print(cat_mw[:10])\n",
    "    return all_moral_weights\n",
    "\n",
    "print(all_category_moral_weights())"
   ]
  },
  {
   "attachments": {},
   "cell_type": "markdown",
   "metadata": {},
   "source": [
    "## Make Data Frame"
   ]
  },
  {
   "cell_type": "code",
   "execution_count": 110,
   "metadata": {},
   "outputs": [
    {
     "name": "stdout",
     "output_type": "stream",
     "text": [
      "                               Mean  5th-pct  50th-pct  95th-pct\n",
      "farmed cows                   1.000    1.000     1.000     1.000\n",
      "farmed pigs                   1.000    1.000     1.000     1.000\n",
      "farmed rabbits                1.000    1.000     1.000     1.000\n",
      "farmed animals for fur        1.000    1.000     1.000     1.000\n",
      "animals in labs               1.000    1.000     1.000     1.000\n",
      "companion animals             1.000    1.000     1.000     1.000\n",
      "working animals               1.000    1.000     1.000     1.000\n",
      "farmed chickens               0.645    0.317     0.636     1.031\n",
      "farmed animals for foie gras  0.645    0.317     0.636     1.031\n",
      "animals in entertainment      0.629    0.486     0.617     0.814\n",
      "wild vertebrates              0.241    0.031     0.188     0.634\n",
      "farmed fishes                 0.241    0.031     0.188     0.634\n",
      "farmed animals                0.155    0.042     0.101     0.453\n",
      "farmed aquatic invertebrates  0.215    0.007     0.075     0.944\n",
      "farmed land invertebrates     0.024    0.000     0.005     0.079\n"
     ]
    }
   ],
   "source": [
    "def make_dataframe(moral_weights):\n",
    "    means = []\n",
    "    fifth_percentiles = []\n",
    "    medians = []\n",
    "    ninty_fifth_percentiles = []\n",
    "    species_adj_wrs = []\n",
    "\n",
    "    for category in categories: \n",
    "        cat_mw = moral_weights[category]\n",
    "        means.append(round(np.mean(cat_mw),3))\n",
    "        fifth_percentiles.append(round(np.percentile(cat_mw, 5),3))\n",
    "        medians.append(round(np.percentile(cat_mw, 50),3))\n",
    "        ninty_fifth_percentiles.append(round(np.percentile(cat_mw, 95),3))\n",
    "\n",
    "    cols = [\"Mean\",\"5th-pct\", \"50th-pct\", \"95th-pct\"]\n",
    "    dataframe = pd.DataFrame(list(zip(means, fifth_percentiles, medians, ninty_fifth_percentiles)), \\\n",
    "        columns=cols, index=categories)\n",
    "    dataframe = dataframe.sort_values(\"50th-pct\", ascending=False)\n",
    "    path = os.path.join(\"sent_adj_welfare_ranges\", \"By Category Welfare Ranges - Indexed to Pigs - Summary Statistics.csv\")\n",
    "    dataframe.to_csv(path, index_label=\"Category\")\n",
    "\n",
    "    return dataframe\n",
    "mws = all_category_moral_weights()\n",
    "print(make_dataframe(mws))\n"
   ]
  }
 ],
 "metadata": {
  "kernelspec": {
   "display_name": "Python 3",
   "language": "python",
   "name": "python3"
  },
  "language_info": {
   "codemirror_mode": {
    "name": "ipython",
    "version": 3
   },
   "file_extension": ".py",
   "mimetype": "text/x-python",
   "name": "python",
   "nbconvert_exporter": "python",
   "pygments_lexer": "ipython3",
   "version": "3.9.13"
  },
  "orig_nbformat": 4
 },
 "nbformat": 4,
 "nbformat_minor": 2
}
